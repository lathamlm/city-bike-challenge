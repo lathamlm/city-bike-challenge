{
 "cells": [
  {
   "cell_type": "code",
   "execution_count": 35,
   "metadata": {},
   "outputs": [],
   "source": [
    "import pandas as pd\n",
    "from pathlib import Path"
   ]
  },
  {
   "cell_type": "code",
   "execution_count": 36,
   "metadata": {},
   "outputs": [],
   "source": [
    "#LAST YEAR'S NYC DATA\n",
    "aug_OG_file = pd.read_csv(\"Resources/Original/202208-citibike-tripdata.csv\", low_memory=False)\n",
    "sept_OG_file = pd.read_csv(\"Resources/Original/202209-citibike-tripdata.csv\", low_memory=False)\n",
    "oct_OG_file = pd.read_csv(\"Resources/Original/202210-citibike-tripdata.csv\", low_memory=False)\n",
    "nov_OG_file = pd.read_csv(\"Resources/Original/202211-citibike-tripdata.csv\", low_memory=False)\n",
    "dec_OG_file = pd.read_csv(\"Resources/Original/202212-citibike-tripdata.csv\", low_memory=False)\n",
    "jan_OG_file = pd.read_csv(\"Resources/Original/202301-citibike-tripdata.csv\", low_memory=False)\n",
    "feb_OG_file = pd.read_csv(\"Resources/Original/202302-citibike-tripdata.csv\", low_memory=False)\n",
    "mar_OG_file = pd.read_csv(\"Resources/Original/202303-citibike-tripdata.csv\", low_memory=False)\n",
    "apr_OG_file = pd.read_csv(\"Resources/Original/202304-citibike-tripdata.csv\", low_memory=False)\n",
    "may_OG_file = pd.read_csv(\"Resources/Original/202305-citibike-tripdata.csv\", low_memory=False)\n",
    "june_OG_file = pd.read_csv(\"Resources/Original/202306-citibike-tripdata.csv\", low_memory=False)\n",
    "july_OG_file = pd.read_csv(\"Resources/Original/202307-citibike-tripdata.csv\", low_memory=False)"
   ]
  },
  {
   "cell_type": "code",
   "execution_count": 42,
   "metadata": {},
   "outputs": [],
   "source": [
    "#LAST YEAR'S JERSEY CITY DATA\n",
    "aug_JC_OG_file = pd.read_csv(\"Resources/original/JC-202208-citibike-tripdata.csv\")\n",
    "sept_JC_OG_file = pd.read_csv(\"Resources/original/JC-202209-citibike-tripdata.csv\")\n",
    "oct_JC_OG_file = pd.read_csv(\"Resources/original/JC-202210-citibike-tripdata.csv\")\n",
    "nov_JC_OG_file = pd.read_csv(\"Resources/original/JC-202211-citibike-tripdata.csv\")\n",
    "dec_JC_OG_file = pd.read_csv(\"Resources/original/JC-202212-citibike-tripdata.csv\")\n",
    "jan_JC_OG_file = pd.read_csv(\"Resources/original/JC-202301-citibike-tripdata.csv\")\n",
    "feb_JC_OG_file = pd.read_csv(\"Resources/original/JC-202302-citibike-tripdata.csv\")\n",
    "mar_JC_OG_file = pd.read_csv(\"Resources/original/JC-202303-citibike-tripdata.csv\")\n",
    "apr_JC_OG_file = pd.read_csv(\"Resources/original/JC-202304-citibike-tripdata.csv\")\n",
    "may_JC_OG_file = pd.read_csv(\"Resources/original/JC-202305-citibike-tripdata.csv\")\n",
    "june_JC_OG_file = pd.read_csv(\"Resources/original/JC-202306-citibike-tripdata.csv\")\n",
    "july_JC_OG_file = pd.read_csv(\"Resources/original/JC-202307-citibike-tripdata.csv\")"
   ]
  },
  {
   "cell_type": "code",
   "execution_count": 43,
   "metadata": {},
   "outputs": [],
   "source": [
    "file_list = [aug_OG_file, sept_OG_file, oct_OG_file, nov_OG_file, dec_OG_file, jan_OG_file, feb_OG_file, mar_OG_file, apr_OG_file, may_OG_file, june_OG_file, july_OG_file, aug_JC_OG_file, sept_JC_OG_file, oct_JC_OG_file, nov_JC_OG_file, dec_JC_OG_file, jan_JC_OG_file, feb_JC_OG_file, mar_JC_OG_file, apr_JC_OG_file, may_JC_OG_file, june_JC_OG_file, july_JC_OG_file]\n",
    "random_bike_data = []\n",
    "for item in file_list:\n",
    "    item[\"started_at\"] = item[\"started_at\"].astype(\"datetime64[ns]\")\n",
    "    item[\"ended_at\"] = item[\"ended_at\"].astype(\"datetime64[ns]\")\n",
    "\n",
    "    item.dropna(how=\"any\")\n",
    "\n",
    "    city_bike = item.copy()\n",
    "    city_bike = city_bike[[\"ride_id\", \"rideable_type\", \"started_at\", \"ended_at\", \"start_station_name\", \"start_station_id\", \"end_station_name\", \"end_station_id\", \"start_lat\", \"start_lng\", \"end_lat\", \"end_lng\", \"member_casual\"]]\n",
    "\n",
    "    random = round(len(city_bike)*0.05)\n",
    "    city_sample = city_bike.sample(n=random)\n",
    "    random_bike_data.append(city_sample)"
   ]
  },
  {
   "cell_type": "code",
   "execution_count": 44,
   "metadata": {},
   "outputs": [],
   "source": [
    "aug_df = pd.DataFrame(random_bike_data[0])\n",
    "sept_df = pd.DataFrame(random_bike_data[1])\n",
    "oct_df = pd.DataFrame(random_bike_data[2])\n",
    "nov_df = pd.DataFrame(random_bike_data[3])\n",
    "dec_df = pd.DataFrame(random_bike_data[4])\n",
    "jan_df = pd.DataFrame(random_bike_data[5])\n",
    "feb_df = pd.DataFrame(random_bike_data[6])\n",
    "mar_df = pd.DataFrame(random_bike_data[7])\n",
    "apr_df = pd.DataFrame(random_bike_data[8])\n",
    "may_df = pd.DataFrame(random_bike_data[9])\n",
    "june_df = pd.DataFrame(random_bike_data[10])\n",
    "july_df = pd.DataFrame(random_bike_data[11])\n",
    "aug_jc = pd.DataFrame(random_bike_data[12])\n",
    "sept_jc = pd.DataFrame(random_bike_data[13])\n",
    "oct_jc = pd.DataFrame(random_bike_data[14])\n",
    "nov_jc = pd.DataFrame(random_bike_data[15])\n",
    "dec_jc = pd.DataFrame(random_bike_data[16])\n",
    "jan_jc = pd.DataFrame(random_bike_data[17])\n",
    "feb_jc = pd.DataFrame(random_bike_data[18])\n",
    "mar_jc = pd.DataFrame(random_bike_data[19])\n",
    "apr_jc = pd.DataFrame(random_bike_data[20])\n",
    "may_jc = pd.DataFrame(random_bike_data[21])\n",
    "june_jc = pd.DataFrame(random_bike_data[22])\n",
    "july_jc = pd.DataFrame(random_bike_data[23])"
   ]
  },
  {
   "cell_type": "code",
   "execution_count": 51,
   "metadata": {},
   "outputs": [],
   "source": [
    "# REFERENCED https://pandas.pydata.org/docs/user_guide/merging.html\n",
    "df_list = [aug_df, sept_df, oct_df, nov_df, dec_df, jan_df, feb_df, mar_df, apr_df, may_df, june_df, july_df, aug_jc, sept_jc, oct_jc, nov_jc, dec_jc, jan_jc, feb_jc, mar_jc, apr_jc, may_jc, june_jc, july_jc]\n",
    "sample_bike_data = pd.concat(df_list)"
   ]
  },
  {
   "cell_type": "code",
   "execution_count": 56,
   "metadata": {},
   "outputs": [
    {
     "name": "stdout",
     "output_type": "stream",
     "text": [
      "1743703\n"
     ]
    }
   ],
   "source": [
    "sample_bike_data.head()"
   ]
  },
  {
   "cell_type": "code",
   "execution_count": 57,
   "metadata": {},
   "outputs": [],
   "source": [
    "sample_bike_data.to_csv(\"Resources/Output/sample_citybike_202208_202307.csv\", header=True, index=False)"
   ]
  }
 ],
 "metadata": {
  "kernelspec": {
   "display_name": "dev",
   "language": "python",
   "name": "python3"
  },
  "language_info": {
   "codemirror_mode": {
    "name": "ipython",
    "version": 3
   },
   "file_extension": ".py",
   "mimetype": "text/x-python",
   "name": "python",
   "nbconvert_exporter": "python",
   "pygments_lexer": "ipython3",
   "version": "3.10.11"
  },
  "orig_nbformat": 4
 },
 "nbformat": 4,
 "nbformat_minor": 2
}
